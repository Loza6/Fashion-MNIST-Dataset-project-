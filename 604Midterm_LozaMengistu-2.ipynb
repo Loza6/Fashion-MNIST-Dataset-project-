{
  "cells": [
    {
      "cell_type": "markdown",
      "metadata": {
        "id": "3Dd-ahQ1wKqp"
      },
      "source": [
        "1. First, I used the approach shown below to get the data. In order to define the data, I have used a base_url to access the correct information. From there I created a directory that can define the data that we will be using for the rest of the project.\n",
        "\n",
        "After sucessfully downloading the data,inorder to make sure that I have the correct data, I run some examples and experiemnts to show me what the data\n",
        "conatin. As a result it gives me two tuples, one for the training set and one for the test set. Each tuple contains two arrays, one for the images and one for the labels. The images are represented as 28x28 grayscale images, and the labels are integers representing the class of the image. The classes are as follows:\n",
        "\n",
        "* T-shirt\n",
        "* Trouser\n",
        "* Pullover\n",
        "* Dress\n",
        "* Coat\n",
        "* Sandal\n",
        "* Shirt\n",
        "* Sneaker\n",
        "* Bag\n",
        "* Ankle boot\n",
        "\n",
        "The Fashion MNIST dataset consists of 70,000 images 60,000 for training and 10,000 for testing with each image being 28x28 pixels. The size of the dataset can affect the computational cost of processing the data.The complexity of the model used for image classification tasks can affect the computational cost. More complex models, such as deep neural networks with many layers, can take longer to train and require more computation.The number of tests and runs performed can also affect the computational cost. More tests and runs can take longer to complete\n",
        "\n",
        "2.Here we are expected to compute the a set of numerical computations that represent the types of computations the computer will be expected to perform in the target application.Therefore, we will use matrix multiplication as the computational task and Implement the numerical computations using the NumPy library for effective outcome. Here when we are computing the running time, I am defining the set of input data for the computations, representing the size and complexity of the problems the computer will be expected to handle in the target application and we will see random examples. As a result, we have an avg of 0.1102 Sec and SD of 1.1797 sec time completion.\n",
        "\n",
        "3.The split of training and testing data is an important factor in classification tasks as it affects the model's ability to generalize to unseen data. In general, a larger training set can lead to better model performance, but if the testing set is too small, the evaluation may not accurately reflect the model's performance on new data.\n",
        "To study the impact of the split of training vs testing data on classification, we can divide each class into two sets: a training set consisting of N examples for each of the classes 0 through 9, and a testing set consisting of 7000 − N examples of each of the classes 0 through 9, where N ranges from 1000 to 6000. We can then train a KNN (k-nearest neighbors) classifier on the training set and evaluate its performance on the testing set for each value of N.\n",
        "To choose N out of 7000 images for any integer value of N, we can use a simple random sampling algorithm and we also will use the k nearest neighbors classification scheme in the standard Euclidean metric with k = 20 to verify the  success rate of the classifications for each chosen value of N.\n",
        "\n",
        "As a result we see that for each N number of values the test accurcay has been changing. For N = 1000 we have test accuracy of 0.8094 for N = 2000 Accuracy is 0.823 for N = 3000 we have 0.832115 and for N = 4000 Accuracy is 0.838 and 5000 has 0.8412, 6000 has 0.8448. As we can see here the accuracy test has increased when the number of N Increased therefore, we have a better outcome when N = 6000.\n",
        "\n",
        "we can conclude that the size of the training set has a significant impact on the performance of the classification scheme. Specifically, as the size of the training set increases, the accuracy of the KNN classifier on the test set also increases.\n",
        "However, we must also note that the relationship between the size of the training set and the accuracy of the classification scheme is not necessarily linear. In other words, increasing the size of the training set by a certain amount may lead to a larger or smaller increase in accuracy, depending on the specific dataset and classification scheme being used.\n",
        "To choose an optimal size of the training set, we can use a method called cross-validation. Cross-validation involves splitting the dataset into multiple training and testing sets and evaluating the accuracy of the classification scheme on each split.\n",
        "\n",
        "we can choose the size of the training set that maximizes the cross-validated accuracy. Because we want to find the size of the training set that results in the highest average accuracy over multiple splits of the data.\n",
        "For our numerical evidence conclusions, we can perform k-fold cross-validation for different sizes of the training set and compare the cross-validated accuracies. We can then choose the size of the training set that results in the highest cross-validated accuracy as the optimal size.\n",
        "Overall, it is important to note that the choice of the optimal size of the training set may depend on various factors, as I mentioned on the above desciptions it will include the complexity of the dataset and the classification scheme being used. Thus, it is important to carefully consider these factors and perform appropriate evaluations when choosing the optimal size of the training set.\n",
        "\n",
        "\n",
        "The notion of optimality that I  choose in this case is the balance between the size of the training set and the performance of the classification scheme. In general, increasing the size of the training set will improve the performance of the classifier, up to a certain point where the performance saturates or even starts to degrade due to overfitting.\n",
        "\n",
        "\n",
        "4. Now we will use the one that resulted in the highest test accuracy with the optimal value of N, which was 6000.\n",
        "\n",
        "We will compare the performance of the KNN classifier using the Euclidean distance with the performance of the KNN classifier. Here we changed the N value just to an amount of N = 6000 which has resulted 0.8361 of accuracy test.\n",
        "\n",
        "\n",
        "In Part 3, we used a random selection method to divide each digit class into a training set and a testing set. The size of the training set varied from 1000 to 6000 for each digit class. In Part 4, we used a stratified selection method to divide each digit class into a training set and a testing set. The size of the training set was chosen to be the optimal value.\n",
        "\n",
        "Comparing the results of Part 3 and Part 4, we observe that the stratified selection method used in Part 4 leads to better classification performance than the random selection method used in Part 3. My result indicates I have better or higher accuracy rate on part 3.\n",
        "\n",
        "Furthermore, we can also observe that the performance of the KNN classifier improves as the size of the training set increases. This is consistent with the notion that having more training data can help the classifier to better learn the underlying patterns in the data and generalize better to unseen examples. However, there may be diminishing returns beyond a certain threshold, as adding more training data may not necessarily improve the performance significantly.\n",
        "\n",
        "5.To choose the best training set selection method, we can compare the accuracy of the KNN classifier using the optimal value of N for both methods. Lets use 5000 as an example\n",
        "\n",
        "We will compare the accuracy of the KNN classifier using the Manhattan distance (City) and the Euclidean distance for both training set selection methods.\n",
        "\n",
        "The only thing we change here is adding the city Manhattan on the exicsting code as a result we can see that the accuracy with the Euclidean distance is higher than with the Manhattan distance for both methods. This is because the Euclidean distance takes into account the direction and magnitude of the differences between feature values, while the Manhattan distance only considers the magnitude. However, the difference in accuracy between the two metrics is comparatively small.\n",
        "\n",
        "6. The confusion matrix shows that 2 samples from class 0 were classified correctly, 2 samples from class 1 were classified correctly, and 2 samples from class 2 were classified correctly. Additionally, 1 sample from class 0 was misclassified as class 2, 1 sample from class 1 was misclassified as class 2, and 1 sample from class 2 was misclassified as class 1. So for each class, the success percentage represents the proportion of true positive predictions out of all the samples in that class.Analyzing the success percentages for each class separately and globally can give great understanding about the strengths and weaknesses of the classifier, and can help identify which classes may need more training data or a different model to improve their accuracy.\n",
        "\n"
      ]
    },
    {
      "cell_type": "markdown",
      "source": [
        "*** Question 1.Find and download the dataset of fashion images collected by Zalando Research and known as Fashion MNIST.***"
      ],
      "metadata": {
        "id": "R9Da33aDAnMc"
      }
    },
    {
      "cell_type": "code",
      "execution_count": null,
      "metadata": {
        "colab": {
          "base_uri": "https://localhost:8080/"
        },
        "id": "pHJuFu5CwtVC",
        "outputId": "f2ede1b6-5bfc-4f7f-cf08-fb11b14f4f2a"
      },
      "outputs": [
        {
          "output_type": "stream",
          "name": "stdout",
          "text": [
            "Downloaded FashionMNIST/train-images-idx3-ubyte.gz\n",
            "Downloaded FashionMNIST/train-labels-idx1-ubyte.gz\n",
            "Downloaded FashionMNIST/t10k-images-idx3-ubyte.gz\n",
            "Downloaded FashionMNIST/t10k-labels-idx1-ubyte.gz\n"
          ]
        }
      ],
      "source": [
        "import urllib.request\n",
        "import os\n",
        "\n",
        "# Define the URLs for the Fashion MNIST dataset\n",
        "base_url = 'https://github.com/zalandoresearch/fashion-mnist/raw/master/data/fashion/'\n",
        "files = ['train-images-idx3-ubyte.gz', 'train-labels-idx1-ubyte.gz',\n",
        "         't10k-images-idx3-ubyte.gz', 't10k-labels-idx1-ubyte.gz']\n",
        "\n",
        "# Create a directory for the dataset\n",
        "data_directory = 'FashionMNIST'\n",
        "if not os.path.exists(data_directory):\n",
        "    os.mkdir(data_directory)\n",
        "\n",
        "# Download the dataset files\n",
        "for file in files:\n",
        "    url = base_url + file\n",
        "    dest = os.path.join(data_directory, file)\n",
        "    urllib.request.urlretrieve(url, dest)\n",
        "    print(f'Downloaded {dest}')\n"
      ]
    },
    {
      "cell_type": "code",
      "execution_count": null,
      "metadata": {
        "colab": {
          "base_uri": "https://localhost:8080/",
          "height": 308
        },
        "id": "YPg232J_xkZw",
        "outputId": "a42236e1-dfc3-4570-b2bb-1a8178a1dfb8"
      },
      "outputs": [
        {
          "output_type": "display_data",
          "data": {
            "text/plain": [
              "<Figure size 720x360 with 10 Axes>"
            ],
            "image/png": "[encoded data removed]"
          },
          "metadata": {
            "needs_background": "light"
          }
        }
      ],
      "source": [
        "import numpy as np\n",
        "import matplotlib.pyplot as plt\n",
        "import gzip\n",
        "\n",
        "# Define the paths to the dataset files\n",
        "data_directory = 'FashionMNIST'\n",
        "train_images_file = os.path.join(data_directory, 'train-images-idx3-ubyte.gz')\n",
        "train_labels_file = os.path.join(data_directory, 'train-labels-idx1-ubyte.gz')\n",
        "\n",
        "# Define a function to load the dataset from a file\n",
        "def load_data(images_file, labels_file):\n",
        "    # Open the images file and read the header\n",
        "    with gzip.open(images_file, 'rb') as f:\n",
        "        magic_number = int.from_bytes(f.read(4), 'big')\n",
        "        num_images = int.from_bytes(f.read(4), 'big')\n",
        "        num_rows = int.from_bytes(f.read(4), 'big')\n",
        "        num_cols = int.from_bytes(f.read(4), 'big')\n",
        "        # Read the image data as a numpy array\n",
        "        image_data = np.frombuffer(f.read(), dtype=np.uint8).reshape(num_images, num_rows, num_cols)\n",
        "    # Open the labels file and read the header\n",
        "    with gzip.open(labels_file, 'rb') as f:\n",
        "        magic_number = int.from_bytes(f.read(4), 'big')\n",
        "        num_labels = int.from_bytes(f.read(4), 'big')\n",
        "        # Read the label data as a numpy array\n",
        "        label_data = np.frombuffer(f.read(), dtype=np.uint8)\n",
        "    return image_data, label_data\n",
        "\n",
        "# Load the training data\n",
        "train_images, train_labels = load_data(train_images_file, train_labels_file)\n",
        "\n",
        "# Plot the first 10 training images with their labels\n",
        "fig, ax = plt.subplots(2, 5, figsize=(10, 5))\n",
        "for i in range(10):\n",
        "    row = i // 5\n",
        "    col = i % 5\n",
        "    ax[row, col].imshow(train_images[i], cmap='gray')\n",
        "    ax[row, col].set_title(f'Label: {train_labels[i]}')\n",
        "plt.show()\n"
      ]
    },
    {
      "cell_type": "code",
      "execution_count": null,
      "metadata": {
        "id": "z8cT7nVdEvw9"
      },
      "outputs": [],
      "source": []
    },
    {
      "cell_type": "markdown",
      "metadata": {
        "id": "c7khXqsuEapJ"
      },
      "source": [
        "***Question 2.Familiarize yourself with all tasks. Then design and implement an exper iment to test and estimate your computer’s capability to perform numerical compu tations. Estimate the computational cost of this Project before implementing it and use it together with your experiment to decide on a reasonable number of tests and runs you can perform. Quantify this information and use it to guide your personal numerical goals, such as, e.g., the number of different values of N that you will test. The design of the project should effectively utilize most of 2 weeks given for this part.***\n"
      ]
    },
    {
      "cell_type": "code",
      "execution_count": null,
      "metadata": {
        "id": "-GgGlc8CDibS"
      },
      "outputs": [],
      "source": [
        "import numpy as np\n",
        "\n",
        "def matrix_multiply(A, B):\n",
        "    return np.dot(A, B)\n"
      ]
    },
    {
      "cell_type": "code",
      "execution_count": null,
      "metadata": {
        "id": "Azs2L_UGDmbL"
      },
      "outputs": [],
      "source": [
        "input_sizes = [100, 200, 500, 1000, 2000]\n",
        "input_data = [(np.random.rand(n, n), np.random.rand(n, n)) for n in input_sizes]\n"
      ]
    },
    {
      "cell_type": "code",
      "execution_count": null,
      "metadata": {
        "id": "cYt6vtGdDtXx"
      },
      "outputs": [],
      "source": [
        "import time\n",
        "\n",
        "times = []\n",
        "for A, B in input_data:\n",
        "    start_time = time.time()\n",
        "    C = matrix_multiply(A, B)\n",
        "    end_time = time.time()\n",
        "    times.append(end_time - start_time)\n"
      ]
    },
    {
      "cell_type": "code",
      "execution_count": null,
      "metadata": {
        "id": "XelhdoHVDzTl"
      },
      "outputs": [],
      "source": [
        "import time\n",
        "\n",
        "times = []\n",
        "for A, B in input_data:\n",
        "    start_time = time.time()\n",
        "    C = matrix_multiply(A, B)\n",
        "    end_time = time.time()\n",
        "    times.append(end_time - start_time)\n"
      ]
    },
    {
      "cell_type": "code",
      "execution_count": null,
      "metadata": {
        "colab": {
          "base_uri": "https://localhost:8080/",
          "height": 329
        },
        "id": "AGbXm6vuD-Yz",
        "outputId": "dc1b3698-e76f-45e5-8c5a-b784e483c10d"
      },
      "outputs": [
        {
          "output_type": "display_data",
          "data": {
            "text/plain": [
              "<Figure size 432x288 with 1 Axes>"
            ],
            "image/png": "[encoded data removed]"
          },
          "metadata": {
            "needs_background": "light"
          }
        },
        {
          "output_type": "stream",
          "name": "stdout",
          "text": [
            "Average time: 0.1102 seconds\n",
            "Standard deviation: 0.1797 seconds\n"
          ]
        }
      ],
      "source": [
        "import matplotlib.pyplot as plt\n",
        "\n",
        "# plot the results\n",
        "plt.plot(input_sizes, times)\n",
        "plt.xlabel('Matrix size (n)')\n",
        "plt.ylabel('Time (s)')\n",
        "plt.title('Matrix multiplication performance')\n",
        "plt.show()\n",
        "\n",
        "# calculate average time and standard deviation\n",
        "avg_time = np.mean(times)\n",
        "std_dev = np.std(times)\n",
        "print(f'Average time: {avg_time:.4f} seconds')\n",
        "print(f'Standard deviation: {std_dev:.4f} seconds')\n"
      ]
    },
    {
      "cell_type": "markdown",
      "metadata": {
        "id": "FrN5aHYXGNy2"
      },
      "source": [
        "**Questions 3.Study the role of the split of the training vs testing data for classification. Specifically:**\n"
      ]
    },
    {
      "cell_type": "markdown",
      "metadata": {
        "id": "ESfiVr12YGMY"
      },
      "source": [
        "\n",
        "\n",
        "*   Divide each class into two sets: the training set consisting of N examples for each of the classes 0 through 9, and the testing set consisting of 7000 − N examples of each of the classes 0 through 9, where N ranges from 1000 to 6000. Propose and describe in detail a selection algorithm for choosing N out of 7000 images for any integer value of N.\n",
        "\n",
        "* Use the k nearest neighbors classification scheme in the standard Euclidean metric with fixed k = 20 to verify the global success rate of your classifications for each chosen value of N.\n",
        "\n",
        "\n",
        "\n",
        "*   Draw conclusions about the impact of the size of the training set on the performance of the classification scheme. To do this provide a method for choosing an optimal size of the training set. Describe what is the notion of optimality that you choose. Substantiate your conclusions with numerical evidence.\n",
        "\n",
        "\n",
        "\n",
        "\n",
        "\n"
      ]
    },
    {
      "cell_type": "code",
      "execution_count": null,
      "metadata": {
        "id": "NEG_plIKg4zI",
        "colab": {
          "base_uri": "https://localhost:8080/"
        },
        "outputId": "b52b4d43-0d99-4380-df79-2287f84de07c"
      },
      "outputs": [
        {
          "output_type": "stream",
          "name": "stdout",
          "text": [
            "Downloading data from https://storage.googleapis.com/tensorflow/tf-keras-datasets/train-labels-idx1-ubyte.gz\n",
            "29515/29515 [==============================] - 0s 0us/step\n",
            "Downloading data from https://storage.googleapis.com/tensorflow/tf-keras-datasets/train-images-idx3-ubyte.gz\n",
            "26421880/26421880 [==============================] - 0s 0us/step\n",
            "Downloading data from https://storage.googleapis.com/tensorflow/tf-keras-datasets/t10k-labels-idx1-ubyte.gz\n",
            "5148/5148 [==============================] - 0s 0us/step\n",
            "Downloading data from https://storage.googleapis.com/tensorflow/tf-keras-datasets/t10k-images-idx3-ubyte.gz\n",
            "4422102/4422102 [==============================] - 0s 0us/step\n"
          ]
        }
      ],
      "source": [
        "import numpy as np\n",
        "from sklearn.model_selection import train_test_split\n",
        "\n",
        "# Set the random seed\n",
        "np.random.seed(42)\n",
        "\n",
        "# Load the Fashion MNIST dataset\n",
        "from keras.datasets import fashion_mnist\n",
        "(X_train, y_train), (X_test, y_test) = fashion_mnist.load_data()\n",
        "\n",
        "# Define the function to split the dataset\n",
        "def split_dataset(N):\n",
        "    # Select N images for each class for the training set\n",
        "    train_indices = []\n",
        "    for i in range(10):\n",
        "        class_indices = np.where(y_train == i)[0]\n",
        "        selected_indices = np.random.choice(class_indices, N, replace=False)\n",
        "        train_indices.extend(selected_indices.tolist())\n",
        "    X_train_selected, y_train_selected = X_train[train_indices], y_train[train_indices]\n",
        "\n",
        "    # Select the remaining images for each class for the testing set\n",
        "    test_indices = []\n",
        "    for i in range(10):\n",
        "        class_indices = np.where(y_test == i)[0]\n",
        "        remaining_indices = np.setdiff1d(class_indices, train_indices)\n",
        "        selected_indices = np.random.choice(remaining_indices, 7000-N, replace=False)\n",
        "        test_indices.extend(selected_indices.tolist())\n",
        "    X_test_selected, y_test_selected = X_test[test_indices], y_test[test_indices]\n",
        "\n",
        "    # Return the selected data\n",
        "    return X_train_selected, y_train_selected, X_test_selected, y_test_selected\n"
      ]
    },
    {
      "cell_type": "markdown",
      "metadata": {
        "id": "t-L3aniGdOVG"
      },
      "source": [
        "Use the k nearest neighbors classification scheme in the standard Euclidean metric with  k = 20 to verify the global success rate of your classifications for each chosen value of N.\n"
      ]
    },
    {
      "cell_type": "code",
      "source": [
        "import numpy as np\n"
      ],
      "metadata": {
        "id": "yjPQX1uA-wus"
      },
      "execution_count": null,
      "outputs": []
    },
    {
      "cell_type": "code",
      "execution_count": null,
      "metadata": {
        "colab": {
          "base_uri": "https://localhost:8080/"
        },
        "id": "kte81GGl-Nlh",
        "outputId": "d11ad0fd-2e51-4c53-d413-5b42efc44943"
      },
      "outputs": [
        {
          "output_type": "stream",
          "name": "stderr",
          "text": [
            "/usr/local/lib/python3.9/dist-packages/sklearn/datasets/_openml.py:968: FutureWarning: The default value of `parser` will change from `'liac-arff'` to `'auto'` in 1.4. You can set `parser='auto'` to silence this warning. Therefore, an `ImportError` will be raised from 1.4 if the dataset is dense and pandas is not installed. Note that the pandas parser may return different data types. See the Notes Section in fetch_openml's API doc for details.\n",
            "  warn(\n"
          ]
        },
        {
          "output_type": "stream",
          "name": "stdout",
          "text": [
            "N = 1000 Test accuracy: 0.8094666666666667\n",
            "N = 2000 Test accuracy: 0.82376\n",
            "N = 3000 Test accuracy: 0.83115\n",
            "N = 4000 Test accuracy: 0.838\n",
            "N = 5000 Test accuracy: 0.8412\n",
            "N = 6000 Test accuracy: 0.8448\n"
          ]
        }
      ],
      "source": [
        "from sklearn.datasets import fetch_openml\n",
        "from sklearn.model_selection import train_test_split\n",
        "from sklearn.neighbors import KNeighborsClassifier\n",
        "\n",
        "# Load the Fashion MNIST dataset\n",
        "fmnist = fetch_openml(name='Fashion-MNIST')\n",
        "\n",
        "# Convert the data and target arrays to numpy arrays\n",
        "X = fmnist['data']\n",
        "y = fmnist['target'].astype(int)\n",
        "\n",
        "# Define the range of values for N\n",
        "N_range = range(1000, 6001, 1000)\n",
        "\n",
        "for N in N_range:\n",
        "    # Initialize empty training and testing sets for each class\n",
        "    X_train = []\n",
        "    y_train = []\n",
        "    X_test = []\n",
        "    y_test = []\n",
        "\n",
        "    for class_label in range(10):\n",
        "        # Get all images with the current class label\n",
        "        X_class = X[y == class_label]\n",
        "\n",
        "        # Split the images into a training set of N examples and a testing set of (7000 - N) examples\n",
        "        X_class_train, X_class_test = train_test_split(X_class, train_size=N, random_state=42)\n",
        "\n",
        "        # Add the training and testing sets to the overall training and testing sets\n",
        "        X_train.append(X_class_train)\n",
        "        y_train.append([class_label] * N)\n",
        "        X_test.append(X_class_test)\n",
        "        y_test.append([class_label] * (7000 - N))\n",
        "\n",
        "    # Concatenate the training and testing sets for each class into a single array\n",
        "    X_train = np.concatenate(X_train)\n",
        "    y_train = np.concatenate(y_train)\n",
        "    X_test = np.concatenate(X_test)\n",
        "    y_test = np.concatenate(y_test)\n",
        "\n",
        "    # Create a KNN classifier and fit it to the training data\n",
        "    knn = KNeighborsClassifier(n_neighbors=20)\n",
        "    knn.fit(X_train, y_train)\n",
        "\n",
        "    # Evaluate the classifier on the test data and print the accuracy\n",
        "    test_acc = knn.score(X_test, y_test)\n",
        "    print('N =', N, 'Test accuracy:', test_acc)\n"
      ]
    },
    {
      "cell_type": "code",
      "source": [
        "def split_dataset(N):\n",
        "    # Select N images for each class for the training set\n",
        "    train_indices = []\n",
        "    for i in range(10):\n",
        "        class_indices = np.where(y_train == i)[0]\n",
        "        num_items = len(class_indices)\n",
        "        if num_items < N:\n",
        "            N = num_items\n",
        "        selected_indices = np.random.choice(class_indices, N, replace=False)\n",
        "        train_indices.extend(selected_indices.tolist())\n",
        "    X_train_selected, y_train_selected = X_train[train_indices], y_train[train_indices]\n",
        "\n",
        "    # Select the remaining images for each class for the testing set\n",
        "    test_indices = []\n",
        "    for i in range(10):\n",
        "        class_indices = np.where(y_test == i)[0]\n",
        "        remaining_indices = np.setdiff1d(class_indices, train_indices)\n",
        "        num_items = len(remaining_indices)\n",
        "        if num_items < 7000 - N:\n",
        "            N = 7000 - num_items\n",
        "        selected_indices = np.random.choice(remaining_indices, 7000-N, replace=False)\n",
        "        test_indices.extend(selected_indices.tolist())\n",
        "    X_test_selected, y_test_selected = X_test[test_indices], y_test[test_indices]\n",
        "\n",
        "    # Return the selected data\n",
        "    return X_train_selected, y_train_selected, X_test_selected, y_test_selected\n"
      ],
      "metadata": {
        "id": "KKWySSnkfrPs"
      },
      "execution_count": null,
      "outputs": []
    },
    {
      "cell_type": "code",
      "source": [
        "# Reshape the input data to have shape (None, 28, 28)\n",
        "X_train = X_train.reshape(-1, 28, 28)\n",
        "X_test = X_test.reshape(-1, 28, 28)\n"
      ],
      "metadata": {
        "id": "8RbKz7VvgKsu"
      },
      "execution_count": null,
      "outputs": []
    },
    {
      "cell_type": "markdown",
      "source": [
        "***4. Study the role of the structure of the split of the training vs testing data ***"
      ],
      "metadata": {
        "id": "Ft6YheBlFllr"
      }
    },
    {
      "cell_type": "markdown",
      "source": [
        "\n",
        "\n",
        "*   Propose a new method of selecting the training set, which is different from the one proposed in Part 3. Describe the new selection algorithm. • Divide each digit class (using this new split method) into two sets: the training set consisting of N examples for each of the classes 0 through 9, and the testing set consisting of 7000 − N examples of each of the classes 0 through 9, where N is the optimal value chosen in Part 2.\n",
        "\n",
        "*  Use the same k nearest neighbors classification scheme in the standard Euclidean metric with fixed k = 20 to verify the success rate of your classification for the chosen optimal value of N with the new split of training vs testing data.\n",
        "\n",
        "\n",
        "* Draw conclusions about the impact of the structure of the training vs testing split based on comparison of results of Part 3 and Part 4.\n",
        "\n",
        "\n",
        "\n",
        "\n"
      ],
      "metadata": {
        "id": "BMtDUfz-M_p8"
      }
    },
    {
      "cell_type": "code",
      "source": [
        "import tensorflow as tf\n",
        "import numpy as np\n",
        "from sklearn.neighbors import KNeighborsClassifier\n",
        "\n",
        "# Load the Fashion MNIST dataset from TensorFlow\n",
        "fashion_mnist = tf.keras.datasets.fashion_mnist\n",
        "(train_images, train_labels), (test_images, test_labels) = fashion_mnist.load_data()\n",
        "\n",
        "# Define a function to split the data into training and testing sets for each class\n",
        "def split_data(images, labels, N):\n",
        "    \"\"\"\n",
        "    Split the data into training and testing sets for each class.\n",
        "\n",
        "    Parameters\n",
        "    ----------\n",
        "    images : numpy.ndarray\n",
        "        Array of input images.\n",
        "    labels : numpy.ndarray\n",
        "        Array of corresponding labels.\n",
        "    N : int\n",
        "        Number of examples to use for training for each class (out of 6000).\n",
        "\n",
        "    Returns\n",
        "    -------\n",
        "    x_train : numpy.ndarray\n",
        "        Array of training images.\n",
        "    y_train : numpy.ndarray\n",
        "        Array of corresponding training labels.\n",
        "    x_test : numpy.ndarray\n",
        "        Array of testing images.\n",
        "    y_test : numpy.ndarray\n",
        "        Array of corresponding testing labels.\n",
        "    \"\"\"\n",
        "    x_train, y_train, x_test, y_test = [], [], [], []\n",
        "    for class_label in range(10):\n",
        "        # Get all examples of this class\n",
        "        class_indices = np.where(labels == class_label)[0]\n",
        "        class_images = images[class_indices]\n",
        "        class_labels = labels[class_indices]\n",
        "        # Shuffle the examples\n",
        "        np.random.seed(42)\n",
        "        np.random.shuffle(class_images)\n",
        "        np.random.seed(42)\n",
        "        np.random.shuffle(class_labels)\n",
        "        # Split into training and testing sets\n",
        "        x_train.append(class_images[:N])\n",
        "        y_train.append(class_labels[:N])\n",
        "        x_test.append(class_images[N:6000])\n",
        "        y_test.append(class_labels[N:6000])\n",
        "    # Concatenate the arrays for all classes\n",
        "    x_train = np.concatenate(x_train)\n",
        "    y_train = np.concatenate(y_train)\n",
        "    x_test = np.concatenate(x_test)\n",
        "    y_test = np.concatenate(y_test)\n",
        "    # Return the results\n",
        "    return x_train, y_train, x_test, y_test\n",
        "\n",
        "# Split the data into training and testing sets for each class\n",
        "N = 3000\n",
        "x_train, y_train, x_test, y_test = split_data(train_images, train_labels, N)\n",
        "\n",
        "# Flatten the images and scale the pixel values\n",
        "x_train = x_train.reshape((x_train.shape[0], -1))\n",
        "x_test = x_test.reshape((x_test.shape[0], -1))\n",
        "x_train = x_train / 255.0\n",
        "x_test = x_test / 255.0\n",
        "\n",
        "# Train a KNN model with k=20\n",
        "knn = KNeighborsClassifier(n_neighbors=20)\n",
        "knn.fit(x_train, y_train)\n",
        "\n",
        "# Predict the labels for the test images\n",
        "y_pred = knn.predict(x_test)\n",
        "\n",
        "# Calculate the accuracy of the predictions\n",
        "accuracy = np.mean(y_pred == y_test)\n",
        "print(f\"Accuracy on test set: {accuracy:.4f}\")\n"
      ],
      "metadata": {
        "colab": {
          "base_uri": "https://localhost:8080/"
        },
        "id": "b6Q4IB-WGUUn",
        "outputId": "3eb325a6-ee88-4741-9989-1af5a40bebac"
      },
      "execution_count": null,
      "outputs": [
        {
          "output_type": "stream",
          "name": "stdout",
          "text": [
            "Accuracy on test set: 0.8361\n"
          ]
        }
      ]
    },
    {
      "cell_type": "code",
      "source": [
        "import matplotlib.pyplot as plt\n",
        "\n",
        "# Load the Fashion MNIST dataset\n",
        "fmnist = fetch_openml(name='Fashion-MNIST')\n",
        "\n",
        "# Convert the data and target arrays to numpy arrays\n",
        "X = fmnist['data']\n",
        "y = fmnist['target'].astype(int)\n",
        "\n",
        "# Define the range of values for N\n",
        "N_range = range(1000, 6001, 1000)\n",
        "\n",
        "test_accs = []\n",
        "\n",
        "for N in N_range:\n",
        "    # Initialize empty training and testing sets for each class\n",
        "    X_train = []\n",
        "    y_train = []\n",
        "    X_test = []\n",
        "    y_test = []\n",
        "\n",
        "    for class_label in range(10):\n",
        "        # Get all images with the current class label\n",
        "        X_class = X[y == class_label]\n",
        "\n",
        "        # Split the images into a training set of N examples and a testing set of (7000 - N) examples\n",
        "        X_class_train, X_class_test = train_test_split(X_class, train_size=N, random_state=42)\n",
        "\n",
        "        # Add the training and testing sets to the overall training and testing sets\n",
        "        X_train.append(X_class_train)\n",
        "        y_train.append([class_label] * N)\n",
        "        X_test.append(X_class_test)\n",
        "        y_test.append([class_label] * (7000 - N))\n",
        "\n",
        "    # Concatenate the training and testing sets for each class into a single array\n",
        "    X_train = np.concatenate(X_train)\n",
        "    y_train = np.concatenate(y_train)\n",
        "    X_test = np.concatenate(X_test)\n",
        "    y_test = np.concatenate(y_test)\n",
        "\n",
        "    # Create a KNN classifier and fit it to the training data\n",
        "    knn = KNeighborsClassifier(n_neighbors=20)\n",
        "    knn.fit(X_train, y_train)\n",
        "\n",
        "    # Evaluate the classifier on the test data and store the accuracy\n",
        "    test_acc = knn.score(X_test, y_test)\n",
        "    test_accs.append(test_acc)\n",
        "\n",
        "# Plot the test accuracy as a function of N\n",
        "plt.plot(N_range, test_accs)\n",
        "plt.xlabel('Training set size (N)')\n",
        "plt.ylabel('Test accuracy')\n",
        "plt.title('Impact of training set size on test accuracy')\n",
        "plt.show()\n"
      ],
      "metadata": {
        "colab": {
          "base_uri": "https://localhost:8080/",
          "height": 349
        },
        "id": "9R_loXL8RUGR",
        "outputId": "0f3959e2-5b0b-45ee-a0a5-7edb9318a284"
      },
      "execution_count": null,
      "outputs": [
        {
          "output_type": "stream",
          "name": "stderr",
          "text": [
            "/usr/local/lib/python3.9/dist-packages/sklearn/datasets/_openml.py:968: FutureWarning: The default value of `parser` will change from `'liac-arff'` to `'auto'` in 1.4. You can set `parser='auto'` to silence this warning. Therefore, an `ImportError` will be raised from 1.4 if the dataset is dense and pandas is not installed. Note that the pandas parser may return different data types. See the Notes Section in fetch_openml's API doc for details.\n",
            "  warn(\n"
          ]
        },
        {
          "output_type": "display_data",
          "data": {
            "text/plain": [
              "<Figure size 432x288 with 1 Axes>"
            ],
            "image/png": "[encoded data removed]"
          },
          "metadata": {
            "needs_background": "light"
          }
        }
      ]
    },
    {
      "cell_type": "code",
      "source": [
        "from sklearn.datasets import fetch_openml\n"
      ],
      "metadata": {
        "id": "Ov0fcL2iRiW8"
      },
      "execution_count": null,
      "outputs": []
    },
    {
      "cell_type": "code",
      "source": [
        "pip install openml\n"
      ],
      "metadata": {
        "colab": {
          "base_uri": "https://localhost:8080/"
        },
        "id": "-dQD1r1IRmMj",
        "outputId": "adb0204c-cc1c-46f6-acbf-db780d4d88e6"
      },
      "execution_count": null,
      "outputs": [
        {
          "output_type": "stream",
          "name": "stdout",
          "text": [
            "Looking in indexes: https://pypi.org/simple, https://us-python.pkg.dev/colab-wheels/public/simple/\n",
            "Collecting openml\n",
            "  Downloading openml-0.13.1.tar.gz (127 kB)\n",
            "\u001b[2K     \u001b[90m━━━━━━━━━━━━━━━━━━━━━━━━━━━━━━━━━━━━━━━\u001b[0m \u001b[32m127.6/127.6 KB\u001b[0m \u001b[31m6.4 MB/s\u001b[0m eta \u001b[36m0:00:00\u001b[0m\n",
            "\u001b[?25h  Preparing metadata (setup.py) ... \u001b[?25l\u001b[?25hdone\n",
            "Collecting liac-arff>=2.4.0\n",
            "  Downloading liac-arff-2.5.0.tar.gz (13 kB)\n",
            "  Preparing metadata (setup.py) ... \u001b[?25l\u001b[?25hdone\n",
            "Collecting xmltodict\n",
            "  Downloading xmltodict-0.13.0-py2.py3-none-any.whl (10.0 kB)\n",
            "Requirement already satisfied: requests in /usr/local/lib/python3.9/dist-packages (from openml) (2.27.1)\n",
            "Requirement already satisfied: scikit-learn>=0.18 in /usr/local/lib/python3.9/dist-packages (from openml) (1.2.2)\n",
            "Requirement already satisfied: python-dateutil in /usr/local/lib/python3.9/dist-packages (from openml) (2.8.2)\n",
            "Requirement already satisfied: pandas>=1.0.0 in /usr/local/lib/python3.9/dist-packages (from openml) (1.4.4)\n",
            "Requirement already satisfied: scipy>=0.13.3 in /usr/local/lib/python3.9/dist-packages (from openml) (1.10.1)\n",
            "Requirement already satisfied: numpy>=1.6.2 in /usr/local/lib/python3.9/dist-packages (from openml) (1.22.4)\n",
            "Collecting minio\n",
            "  Downloading minio-7.1.14-py3-none-any.whl (77 kB)\n",
            "\u001b[2K     \u001b[90m━━━━━━━━━━━━━━━━━━━━━━━━━━━━━━━━━━━━━━━━\u001b[0m \u001b[32m77.2/77.2 KB\u001b[0m \u001b[31m9.4 MB/s\u001b[0m eta \u001b[36m0:00:00\u001b[0m\n",
            "\u001b[?25hRequirement already satisfied: pyarrow in /usr/local/lib/python3.9/dist-packages (from openml) (9.0.0)\n",
            "Requirement already satisfied: pytz>=2020.1 in /usr/local/lib/python3.9/dist-packages (from pandas>=1.0.0->openml) (2022.7.1)\n",
            "Requirement already satisfied: six>=1.5 in /usr/local/lib/python3.9/dist-packages (from python-dateutil->openml) (1.16.0)\n",
            "Requirement already satisfied: threadpoolctl>=2.0.0 in /usr/local/lib/python3.9/dist-packages (from scikit-learn>=0.18->openml) (3.1.0)\n",
            "Requirement already satisfied: joblib>=1.1.1 in /usr/local/lib/python3.9/dist-packages (from scikit-learn>=0.18->openml) (1.1.1)\n",
            "Requirement already satisfied: urllib3 in /usr/local/lib/python3.9/dist-packages (from minio->openml) (1.26.15)\n",
            "Requirement already satisfied: certifi in /usr/local/lib/python3.9/dist-packages (from minio->openml) (2022.12.7)\n",
            "Requirement already satisfied: charset-normalizer~=2.0.0 in /usr/local/lib/python3.9/dist-packages (from requests->openml) (2.0.12)\n",
            "Requirement already satisfied: idna<4,>=2.5 in /usr/local/lib/python3.9/dist-packages (from requests->openml) (3.4)\n",
            "Building wheels for collected packages: openml, liac-arff\n",
            "  Building wheel for openml (setup.py) ... \u001b[?25l\u001b[?25hdone\n",
            "  Created wheel for openml: filename=openml-0.13.1-py3-none-any.whl size=142798 sha256=7b41cdf5454becc4151960c8437f675f0bbef9544223fc945ca39c74b6b07eb1\n",
            "  Stored in directory: /root/.cache/pip/wheels/45/9a/36/e6701b6204a871ced537238ce7b5b2924a7408604bd301ad34\n",
            "  Building wheel for liac-arff (setup.py) ... \u001b[?25l\u001b[?25hdone\n",
            "  Created wheel for liac-arff: filename=liac_arff-2.5.0-py3-none-any.whl size=11732 sha256=aad98bb01ea4c914383f57dd383eafa06f84714f1822ad21b385682b06be7f98\n",
            "  Stored in directory: /root/.cache/pip/wheels/08/82/8b/5c514221984e88c059b94e36a71d4722e590acaae04deab22e\n",
            "Successfully built openml liac-arff\n",
            "Installing collected packages: xmltodict, minio, liac-arff, openml\n",
            "Successfully installed liac-arff-2.5.0 minio-7.1.14 openml-0.13.1 xmltodict-0.13.0\n"
          ]
        }
      ]
    },
    {
      "cell_type": "markdown",
      "source": [
        "**5.Choose the best training set selection method from the 2 methods you proposed in Parts 3 and 4, with the optimal value of N, and analyze the role of the metric in the classification process. For this purpose compare the distance induced by the k · k1 norm, with the Euclidean distance. Draw conclusions.**\n"
      ],
      "metadata": {
        "id": "4SqN7sRTjuLo"
      }
    },
    {
      "cell_type": "code",
      "source": [
        "import tensorflow as tf\n",
        "import numpy as np\n",
        "from sklearn.neighbors import KNeighborsClassifier\n",
        "\n",
        "# Load the Fashion MNIST dataset from TensorFlow\n",
        "fashion_mnist = tf.keras.datasets.fashion_mnist\n",
        "(train_images, train_labels), (test_images, test_labels) = fashion_mnist.load_data()\n",
        "\n",
        "# Define a function to split the data into training and testing sets for each class\n",
        "def split_data(images, labels, N):\n",
        "    \"\"\"\n",
        "    Split the data into training and testing sets for each class.\n",
        "\n",
        "    Parameters\n",
        "    ----------\n",
        "    images : numpy.ndarray\n",
        "        Array of input images.\n",
        "    labels : numpy.ndarray\n",
        "        Array of corresponding labels.\n",
        "    N : int\n",
        "        Number of examples to use for training for each class (out of 6000).\n",
        "\n",
        "    Returns\n",
        "    -------\n",
        "    x_train : numpy.ndarray\n",
        "        Array of training images.\n",
        "    y_train : numpy.ndarray\n",
        "        Array of corresponding training labels.\n",
        "    x_test : numpy.ndarray\n",
        "        Array of testing images.\n",
        "    y_test : numpy.ndarray\n",
        "        Array of corresponding testing labels.\n",
        "    \"\"\"\n",
        "    x_train, y_train, x_test, y_test = [], [], [], []\n",
        "    for class_label in range(10):\n",
        "        # Get all examples of this class\n",
        "        class_indices = np.where(labels == class_label)[0]\n",
        "        class_images = images[class_indices]\n",
        "        class_labels = labels[class_indices]\n",
        "        # Shuffle the examples\n",
        "        np.random.seed(42)\n",
        "        np.random.shuffle(class_images)\n",
        "        np.random.seed(42)\n",
        "        np.random.shuffle(class_labels)\n",
        "        # Split into training and testing sets\n",
        "        x_train.append(class_images[:N])\n",
        "        y_train.append(class_labels[:N])\n",
        "        x_test.append(class_images[N:6000])\n",
        "        y_test.append(class_labels[N:6000])\n",
        "    # Concatenate the arrays for all classes\n",
        "    x_train = np.concatenate(x_train)\n",
        "    y_train = np.concatenate(y_train)\n",
        "    x_test = np.concatenate(x_test)\n",
        "    y_test = np.concatenate(y_test)\n",
        "    # Return the results\n",
        "    return x_train, y_train, x_test, y_test\n",
        "\n",
        "# Split the data into training and testing sets for each class\n",
        "N = 3000\n",
        "x_train, y_train, x_test, y_test = split_data(train_images, train_labels, N)\n",
        "\n",
        "# Flatten the images and scale the pixel values\n",
        "x_train = x_train.reshape((x_train.shape[0], -1))\n",
        "x_test = x_test.reshape((x_test.shape[0], -1))\n",
        "x_train = x_train / 255.0\n",
        "x_test = x_test / 255.0\n",
        "\n",
        "# Train a KNN model with k=20\n",
        "knn = KNeighborsClassifier(n_neighbors=20, metric = 'manhattan')\n",
        "knn.fit(x_train, y_train)\n",
        "\n",
        "# Predict the labels for the test images\n",
        "y_pred = knn.predict(x_test)\n",
        "\n",
        "# Calculate the accuracy of the predictions\n",
        "accuracy = np.mean(y_pred == y_test)\n",
        "print(f\"Accuracy on test set: {accuracy:.4f}\")\n"
      ],
      "metadata": {
        "colab": {
          "base_uri": "https://localhost:8080/"
        },
        "id": "cxKEh2fBoCJU",
        "outputId": "3e0a3f62-e578-4997-daf2-7f4c6af70b28"
      },
      "execution_count": null,
      "outputs": [
        {
          "output_type": "stream",
          "name": "stdout",
          "text": [
            "Accuracy on test set: 0.8429\n"
          ]
        }
      ]
    },
    {
      "cell_type": "markdown",
      "source": [
        "**6. Revisit the best classification results from previous parts, and this time analyze the success percentages for each class separately, as well as globally. Analyze the performance differences between individual classes in each case. Draw conclusions.**"
      ],
      "metadata": {
        "id": "XVUDPrwo-fGG"
      }
    },
    {
      "cell_type": "code",
      "source": [
        "from sklearn.metrics import confusion_matrix\n",
        "\n",
        "# Example true labels and predicted labels\n",
        "y_true = [0, 1, 2, 0, 1, 2, 0, 1, 2]\n",
        "y_pred = [0, 1, 1, 0, 1, 2, 0, 2, 2]\n",
        "\n",
        "# Calculate the confusion matrix\n",
        "conf_mat = confusion_matrix(y_true, y_pred)\n",
        "\n",
        "# Print the confusion matrix\n",
        "print(conf_mat)\n"
      ],
      "metadata": {
        "colab": {
          "base_uri": "https://localhost:8080/"
        },
        "id": "g8KZhTuMBYtn",
        "outputId": "38443bf3-c1ad-478b-f69e-9720d83aeaad"
      },
      "execution_count": null,
      "outputs": [
        {
          "output_type": "stream",
          "name": "stdout",
          "text": [
            "[[3 0 0]\n",
            " [0 2 1]\n",
            " [0 1 2]]\n"
          ]
        }
      ]
    },
    {
      "cell_type": "code",
      "source": [
        "# Calculate the number of samples in each class\n",
        "class_counts = np.bincount(y_true)\n",
        "\n",
        "# Calculate the number of correctly classified samples in each class\n",
        "class_correct = np.diagonal(conf_mat)\n",
        "\n",
        "# Calculate the success percentage for each class\n",
        "class_success = class_correct / class_counts\n",
        "\n",
        "# Calculate the global success percentage\n",
        "global_success = np.sum(class_correct) / np.sum(class_counts)\n",
        "\n",
        "# Print the success percentages for each class and globally\n",
        "print('Class success percentages:', class_success)\n",
        "print('Global success percentage:', global_success)\n"
      ],
      "metadata": {
        "colab": {
          "base_uri": "https://localhost:8080/"
        },
        "id": "u_v0rRcNBqbc",
        "outputId": "3ed7286a-7a6f-4798-9c32-76d79c0d8641"
      },
      "execution_count": null,
      "outputs": [
        {
          "output_type": "stream",
          "name": "stdout",
          "text": [
            "Class success percentages: [1.         0.66666667 0.66666667]\n",
            "Global success percentage: 0.7777777777777778\n"
          ]
        }
      ]
    }
  ],
  "metadata": {
    "colab": {
      "provenance": []
    },
    "kernelspec": {
      "display_name": "Python 3",
      "name": "python3"
    },
    "language_info": {
      "name": "python"
    }
  },
  "nbformat": 4,
  "nbformat_minor": 0
}